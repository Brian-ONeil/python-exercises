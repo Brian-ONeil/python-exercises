{
 "cells": [
  {
   "cell_type": "markdown",
   "id": "4b423601",
   "metadata": {},
   "source": [
    "Define a function named is_two. It should accept one input and return True if the passed input is either the number or the string 2, False otherwise."
   ]
  },
  {
   "cell_type": "code",
   "execution_count": 4,
   "id": "73c50068",
   "metadata": {},
   "outputs": [],
   "source": [
    "test_input = '2'"
   ]
  },
  {
   "cell_type": "code",
   "execution_count": 5,
   "id": "ad9d070b",
   "metadata": {},
   "outputs": [
    {
     "name": "stdout",
     "output_type": "stream",
     "text": [
      "True\n"
     ]
    }
   ],
   "source": [
    "if test_input == 2 or test_input == '2':\n",
    "    print(True)"
   ]
  },
  {
   "cell_type": "code",
   "execution_count": 6,
   "id": "083a3826",
   "metadata": {},
   "outputs": [],
   "source": [
    "def is_two(string):\n",
    "    if string == 2 or string == '2':\n",
    "        return True\n",
    "    else:\n",
    "        return False"
   ]
  },
  {
   "cell_type": "code",
   "execution_count": null,
   "id": "59dee397",
   "metadata": {},
   "outputs": [],
   "source": [
    "Define a function named is_vowel. It should return True if the passed \n",
    "string is a vowel, False otherwise."
   ]
  },
  {
   "cell_type": "code",
   "execution_count": 41,
   "id": "0dcbc6b9",
   "metadata": {},
   "outputs": [],
   "source": [
    "is_vowel = ['a', 'e', 'i', 'o', 'u']"
   ]
  },
  {
   "cell_type": "code",
   "execution_count": 83,
   "id": "7f1548e5",
   "metadata": {},
   "outputs": [
    {
     "name": "stdout",
     "output_type": "stream",
     "text": [
      "Enter a vowel a\n",
      "True\n"
     ]
    }
   ],
   "source": [
    "is_vowel = input('Enter a vowel ')\n",
    "if is_vowel in ['a', 'e', 'i', 'o', 'u']:\n",
    "    print ('True')\n",
    "else:\n",
    "    print('False')"
   ]
  },
  {
   "cell_type": "code",
   "execution_count": 7,
   "id": "f39386a5",
   "metadata": {},
   "outputs": [],
   "source": [
    "def is_vowel(string):\n",
    "    string_vowels = 'aeiou'\n",
    "    \n",
    "    if type(string) == str:\n",
    "        return string.lower() in list(string_vowels)\n",
    "    else:\n",
    "        return False\n"
   ]
  },
  {
   "cell_type": "code",
   "execution_count": 8,
   "id": "79f54800",
   "metadata": {},
   "outputs": [
    {
     "data": {
      "text/plain": [
       "True"
      ]
     },
     "execution_count": 8,
     "metadata": {},
     "output_type": "execute_result"
    }
   ],
   "source": [
    "is_vowel('a')"
   ]
  },
  {
   "cell_type": "code",
   "execution_count": null,
   "id": "fa619e4c",
   "metadata": {},
   "outputs": [],
   "source": [
    "Define a function named is_consonant. It should return True if the \n",
    "passed string is a consonant, False otherwise. Use your is_vowel \n",
    "function to accomplish this."
   ]
  },
  {
   "cell_type": "code",
   "execution_count": 84,
   "id": "1fdc3a02",
   "metadata": {},
   "outputs": [
    {
     "name": "stdout",
     "output_type": "stream",
     "text": [
      "Enter a consonant r\n",
      "True\n"
     ]
    }
   ],
   "source": [
    "is_consonant = input('Enter a consonant ')\n",
    "if is_consonant in ['a', 'e', 'i', 'o', 'u']:\n",
    "    print ('False')\n",
    "else:\n",
    "    print('True')"
   ]
  },
  {
   "cell_type": "code",
   "execution_count": 9,
   "id": "9122be56",
   "metadata": {},
   "outputs": [],
   "source": [
    "def is_consonant(string):\n",
    "    if type(string) == str:    \n",
    "        if string.isalpha() == True:\n",
    "            if not is_vowel(string):\n",
    "                return True\n",
    "            else:\n",
    "                return False # this is false when the input is not a consonant\n",
    "        else:\n",
    "            return False # this is false when the input is not a letter\n",
    "    else:\n",
    "        return False #this is false when the input is not a string"
   ]
  },
  {
   "cell_type": "code",
   "execution_count": 10,
   "id": "0831977d",
   "metadata": {},
   "outputs": [
    {
     "data": {
      "text/plain": [
       "True"
      ]
     },
     "execution_count": 10,
     "metadata": {},
     "output_type": "execute_result"
    }
   ],
   "source": [
    "is_consonant('b')"
   ]
  },
  {
   "cell_type": "code",
   "execution_count": null,
   "id": "5691cfc2",
   "metadata": {},
   "outputs": [],
   "source": [
    "Define a function that accepts a string that is a word. The function \n",
    "should capitalize the first letter of the word if the word starts with\n",
    "a consonant."
   ]
  },
  {
   "cell_type": "raw",
   "id": "6c0a429c",
   "metadata": {},
   "source": [
    "word = 'hello'"
   ]
  },
  {
   "cell_type": "code",
   "execution_count": 52,
   "id": "3d4c2373",
   "metadata": {},
   "outputs": [],
   "source": [
    "consonants = 'bcdfghjklmnpqrstvwxyz'"
   ]
  },
  {
   "cell_type": "code",
   "execution_count": 85,
   "id": "daacff8c",
   "metadata": {},
   "outputs": [],
   "source": [
    "def capitalize_consonant(word):\n",
    "    consonants = 'bcdfghjklmnpqrstvwxyz'\n",
    "    if word and word[0].lower() in consonants:\n",
    "        return str.capitalize()\n",
    "    else:\n",
    "        return word"
   ]
  },
  {
   "cell_type": "code",
   "execution_count": 12,
   "id": "8146f7a5",
   "metadata": {},
   "outputs": [],
   "source": [
    "def capital_cons_start(string):\n",
    "    if is_consonant(string[0]): #calling my is_consonant function\n",
    "        string = string.capitalize()\n",
    "    return string"
   ]
  },
  {
   "cell_type": "code",
   "execution_count": 13,
   "id": "d2b1a0d6",
   "metadata": {},
   "outputs": [
    {
     "data": {
      "text/plain": [
       "'Coffee'"
      ]
     },
     "execution_count": 13,
     "metadata": {},
     "output_type": "execute_result"
    }
   ],
   "source": [
    "capital_cons_start('coffee')"
   ]
  },
  {
   "cell_type": "code",
   "execution_count": null,
   "id": "b0b8e2b3",
   "metadata": {},
   "outputs": [],
   "source": [
    "Define a function named calculate_tip. It should accept a tip \n",
    "percentage (a number between 0 and 1) and the bill total, and return \n",
    "the amount to tip."
   ]
  },
  {
   "cell_type": "code",
   "execution_count": 15,
   "id": "d412ed1d",
   "metadata": {},
   "outputs": [],
   "source": [
    "tip_perc = .2\n",
    "bill_total = 10"
   ]
  },
  {
   "cell_type": "code",
   "execution_count": 16,
   "id": "97aca6d2",
   "metadata": {},
   "outputs": [
    {
     "data": {
      "text/plain": [
       "12.0"
      ]
     },
     "execution_count": 16,
     "metadata": {},
     "output_type": "execute_result"
    }
   ],
   "source": [
    "bill_total * tip_perc + bill_total"
   ]
  },
  {
   "cell_type": "code",
   "execution_count": 18,
   "id": "6f284392",
   "metadata": {},
   "outputs": [],
   "source": [
    "def calculate_tip(bill_total, tip_perc=.2):\n",
    "    return bill_total * tip_perc + bill_total"
   ]
  },
  {
   "cell_type": "code",
   "execution_count": 19,
   "id": "0a135cf1",
   "metadata": {},
   "outputs": [
    {
     "data": {
      "text/plain": [
       "120.0"
      ]
     },
     "execution_count": 19,
     "metadata": {},
     "output_type": "execute_result"
    }
   ],
   "source": [
    "calculate_tip(100.00)"
   ]
  },
  {
   "cell_type": "code",
   "execution_count": null,
   "id": "d4801c88",
   "metadata": {},
   "outputs": [],
   "source": [
    "Define a function named apply_discount. It should accept a original \n",
    "price, and a discount percentage, and return the price after the \n",
    "discount is applied."
   ]
  },
  {
   "cell_type": "code",
   "execution_count": 20,
   "id": "f3851be9",
   "metadata": {},
   "outputs": [],
   "source": [
    "og_price = 10\n",
    "discount = .9"
   ]
  },
  {
   "cell_type": "code",
   "execution_count": 21,
   "id": "64ff9575",
   "metadata": {},
   "outputs": [
    {
     "data": {
      "text/plain": [
       "1.0"
      ]
     },
     "execution_count": 21,
     "metadata": {},
     "output_type": "execute_result"
    }
   ],
   "source": [
    "og_price - og_price * discount"
   ]
  },
  {
   "cell_type": "code",
   "execution_count": 23,
   "id": "de08e806",
   "metadata": {},
   "outputs": [],
   "source": [
    "def apply_discount(og_price, discount):\n",
    "    return og_price - og_price * discount"
   ]
  },
  {
   "cell_type": "code",
   "execution_count": 24,
   "id": "f551c4e7",
   "metadata": {},
   "outputs": [
    {
     "data": {
      "text/plain": [
       "4.0"
      ]
     },
     "execution_count": 24,
     "metadata": {},
     "output_type": "execute_result"
    }
   ],
   "source": [
    "apply_discount(10,.6)"
   ]
  },
  {
   "cell_type": "code",
   "execution_count": null,
   "id": "042eee17",
   "metadata": {},
   "outputs": [],
   "source": [
    "Define a function named handle_commas. It should accept a string that \n",
    "is a number that contains commas in it as input, and return a number \n",
    "as output."
   ]
  },
  {
   "cell_type": "code",
   "execution_count": 25,
   "id": "a0ca1b08",
   "metadata": {},
   "outputs": [],
   "source": [
    "string_number = '1,000,000'"
   ]
  },
  {
   "cell_type": "code",
   "execution_count": 27,
   "id": "e5a202ba",
   "metadata": {},
   "outputs": [],
   "source": [
    "def handle_commas(string_number):\n",
    "    return int(string_number.replace(',',''))"
   ]
  },
  {
   "cell_type": "code",
   "execution_count": 28,
   "id": "5280f317",
   "metadata": {},
   "outputs": [
    {
     "data": {
      "text/plain": [
       "1234"
      ]
     },
     "execution_count": 28,
     "metadata": {},
     "output_type": "execute_result"
    }
   ],
   "source": [
    "handle_commas(\"1,234\")"
   ]
  },
  {
   "cell_type": "code",
   "execution_count": null,
   "id": "42e2931d",
   "metadata": {},
   "outputs": [],
   "source": [
    "Define a function named get_letter_grade. It should accept a number \n",
    "and return the letter grade associated with that number (A-F)."
   ]
  },
  {
   "cell_type": "code",
   "execution_count": 29,
   "id": "a4f6b75c",
   "metadata": {},
   "outputs": [],
   "source": [
    "def get_letter_grade(grade):\n",
    "    if grade >= 90:\n",
    "        letter_grade = 'A'\n",
    "    elif grade >= 80:\n",
    "        letter_grade = 'B'\n",
    "    elif grade >= 70:\n",
    "        letter_grade = 'C'\n",
    "    else:\n",
    "        letter_grade = 'F' \n",
    "        \n",
    "    return letter_grade"
   ]
  },
  {
   "cell_type": "code",
   "execution_count": 30,
   "id": "6fec8480",
   "metadata": {},
   "outputs": [
    {
     "data": {
      "text/plain": [
       "'A'"
      ]
     },
     "execution_count": 30,
     "metadata": {},
     "output_type": "execute_result"
    }
   ],
   "source": [
    "get_letter_grade(100)"
   ]
  },
  {
   "cell_type": "code",
   "execution_count": null,
   "id": "2e8ca713",
   "metadata": {},
   "outputs": [],
   "source": [
    "Define a function named remove_vowels that accepts a string and \n",
    "returns a string with all the vowels removed."
   ]
  },
  {
   "cell_type": "code",
   "execution_count": 31,
   "id": "e0d0a5a2",
   "metadata": {},
   "outputs": [],
   "source": [
    "def remove_vowels(string):\n",
    "    new_string = ''\n",
    "\n",
    "    for char in string:\n",
    "        if not is_vowel(char):\n",
    "            new_string += char\n",
    "            \n",
    "    return new_string"
   ]
  },
  {
   "cell_type": "code",
   "execution_count": 32,
   "id": "3105323e",
   "metadata": {},
   "outputs": [
    {
     "data": {
      "text/plain": [
       "'hll'"
      ]
     },
     "execution_count": 32,
     "metadata": {},
     "output_type": "execute_result"
    }
   ],
   "source": [
    "remove_vowels('hello')"
   ]
  },
  {
   "cell_type": "markdown",
   "id": "2a25e9cc",
   "metadata": {},
   "source": [
    "#### Define a function named normalize_name. It should accept a string and return a valid python identifier, that is:\n",
    "\n",
    "anything that is not a valid python identifier should be removed\n",
    "leading and trailing whitespace should be removed\n",
    "everything should be lowercase\n",
    "spaces should be replaced with underscores\n",
    "for example:\n",
    "Name will become name\n",
    "First Name will become first_name\n",
    "% Completed will become completed"
   ]
  },
  {
   "cell_type": "code",
   "execution_count": 33,
   "id": "581a3fab",
   "metadata": {},
   "outputs": [],
   "source": [
    "def normalize_name(string):\n",
    "    string = string.strip().lower().replace(' ','_')\n",
    "    \n",
    "    new_string = ''\n",
    "\n",
    "    for char in string:\n",
    "    #     print(char)\n",
    "        if char.isalpha() or char.isdigit() or char == '_':\n",
    "    #         print('this is valid')\n",
    "            new_string += char\n",
    "\n",
    "    new_string = new_string.strip('_')\n",
    "    \n",
    "    return new_string"
   ]
  },
  {
   "cell_type": "code",
   "execution_count": 34,
   "id": "689659fc",
   "metadata": {},
   "outputs": [
    {
     "data": {
      "text/plain": [
       "'name'"
      ]
     },
     "execution_count": 34,
     "metadata": {},
     "output_type": "execute_result"
    }
   ],
   "source": [
    "normalize_name('Name')"
   ]
  },
  {
   "cell_type": "code",
   "execution_count": null,
   "id": "af16be49",
   "metadata": {},
   "outputs": [],
   "source": [
    "# Write a function named cumulative_sum that accepts a list of numbers and returns a list that is the cumulative sum of the numbers in the list.\n",
    "\n",
    "cumulative_sum([1, 1, 1]) returns [1, 2, 3]\n",
    "cumulative_sum([1, 2, 3, 4]) returns [1, 3, 6, 10]"
   ]
  },
  {
   "cell_type": "code",
   "execution_count": null,
   "id": "7b7c0d5b",
   "metadata": {},
   "outputs": [],
   "source": [
    "ls = [1,1,1]"
   ]
  },
  {
   "cell_type": "code",
   "execution_count": 35,
   "id": "06bd5d72",
   "metadata": {},
   "outputs": [],
   "source": [
    "def cumulative_sum(ls):\n",
    "    total = 0 \n",
    "    some_sums = []\n",
    "\n",
    "    for numb in ls:\n",
    "    #     print(numb)\n",
    "        total += numb\n",
    "#         print(total)\n",
    "        some_sums.append(total)\n",
    "\n",
    "    return some_sums"
   ]
  },
  {
   "cell_type": "code",
   "execution_count": 36,
   "id": "bc6ee381",
   "metadata": {},
   "outputs": [
    {
     "data": {
      "text/plain": [
       "[1, 2, 3]"
      ]
     },
     "execution_count": 36,
     "metadata": {},
     "output_type": "execute_result"
    }
   ],
   "source": [
    "cumulative_sum([1, 1, 1])"
   ]
  },
  {
   "cell_type": "code",
   "execution_count": null,
   "id": "fb6b78c4",
   "metadata": {},
   "outputs": [],
   "source": []
  }
 ],
 "metadata": {
  "kernelspec": {
   "display_name": "Python 3 (ipykernel)",
   "language": "python",
   "name": "python3"
  },
  "language_info": {
   "codemirror_mode": {
    "name": "ipython",
    "version": 3
   },
   "file_extension": ".py",
   "mimetype": "text/x-python",
   "name": "python",
   "nbconvert_exporter": "python",
   "pygments_lexer": "ipython3",
   "version": "3.9.13"
  }
 },
 "nbformat": 4,
 "nbformat_minor": 5
}
