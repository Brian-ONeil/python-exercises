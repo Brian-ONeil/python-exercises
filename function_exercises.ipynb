{
 "cells": [
  {
   "cell_type": "markdown",
   "id": "ff5518b4",
   "metadata": {},
   "source": [
    "Define a function named is_two. It should accept one input and return True if the passed input is either the number or the string 2, False otherwise."
   ]
  },
  {
   "cell_type": "code",
   "execution_count": 17,
   "id": "36f73c9d",
   "metadata": {},
   "outputs": [],
   "source": [
    "is_two = 2"
   ]
  },
  {
   "cell_type": "code",
   "execution_count": 23,
   "id": "a39aaf2a",
   "metadata": {},
   "outputs": [
    {
     "name": "stdout",
     "output_type": "stream",
     "text": [
      "What is_two3\n",
      "False\n"
     ]
    }
   ],
   "source": [
    "is_two = input('What is_two')\n",
    "if is_two == str(2):\n",
    "    print ('True')\n",
    "else:\n",
    "    print('False')"
   ]
  },
  {
   "cell_type": "code",
   "execution_count": 20,
   "id": "e1bd7135",
   "metadata": {},
   "outputs": [
    {
     "name": "stdout",
     "output_type": "stream",
     "text": [
      "2\n"
     ]
    }
   ],
   "source": [
    "print(is_two)"
   ]
  },
  {
   "cell_type": "code",
   "execution_count": null,
   "id": "07de44fd",
   "metadata": {},
   "outputs": [],
   "source": [
    "Define a function named is_vowel. It should return True if the passed \n",
    "string is a vowel, False otherwise."
   ]
  },
  {
   "cell_type": "code",
   "execution_count": 41,
   "id": "755efc94",
   "metadata": {},
   "outputs": [],
   "source": [
    "is_vowel = ['a', 'e', 'i', 'o', 'u']"
   ]
  },
  {
   "cell_type": "code",
   "execution_count": 83,
   "id": "486302e6",
   "metadata": {},
   "outputs": [
    {
     "name": "stdout",
     "output_type": "stream",
     "text": [
      "Enter a vowel a\n",
      "True\n"
     ]
    }
   ],
   "source": [
    "is_vowel = input('Enter a vowel ')\n",
    "if is_vowel in ['a', 'e', 'i', 'o', 'u']:\n",
    "    print ('True')\n",
    "else:\n",
    "    print('False')"
   ]
  },
  {
   "cell_type": "code",
   "execution_count": null,
   "id": "4d3666c3",
   "metadata": {},
   "outputs": [],
   "source": []
  },
  {
   "cell_type": "code",
   "execution_count": null,
   "id": "42efd821",
   "metadata": {},
   "outputs": [],
   "source": [
    "Define a function named is_consonant. It should return True if the \n",
    "passed string is a consonant, False otherwise. Use your is_vowel \n",
    "function to accomplish this."
   ]
  },
  {
   "cell_type": "code",
   "execution_count": 84,
   "id": "c8a09a7b",
   "metadata": {},
   "outputs": [
    {
     "name": "stdout",
     "output_type": "stream",
     "text": [
      "Enter a consonant r\n",
      "True\n"
     ]
    }
   ],
   "source": [
    "is_consonant = input('Enter a consonant ')\n",
    "if is_consonant in ['a', 'e', 'i', 'o', 'u']:\n",
    "    print ('False')\n",
    "else:\n",
    "    print('True')"
   ]
  },
  {
   "cell_type": "code",
   "execution_count": null,
   "id": "5afba479",
   "metadata": {},
   "outputs": [],
   "source": []
  },
  {
   "cell_type": "code",
   "execution_count": null,
   "id": "6c175560",
   "metadata": {},
   "outputs": [],
   "source": [
    "Define a function that accepts a string that is a word. The function \n",
    "should capitalize the first letter of the word if the word starts with\n",
    "a consonant."
   ]
  },
  {
   "cell_type": "raw",
   "id": "3f935b63",
   "metadata": {},
   "source": [
    "word = 'hello'"
   ]
  },
  {
   "cell_type": "code",
   "execution_count": 52,
   "id": "d0573411",
   "metadata": {},
   "outputs": [],
   "source": [
    "consonants = 'bcdfghjklmnpqrstvwxyz'"
   ]
  },
  {
   "cell_type": "code",
   "execution_count": 85,
   "id": "6f93fe75",
   "metadata": {},
   "outputs": [],
   "source": [
    "def capitalize_consonant(word):\n",
    "    consonants = 'bcdfghjklmnpqrstvwxyz'\n",
    "    if word and word[0].lower() in consonants:\n",
    "        return str.capitalize()\n",
    "    else:\n",
    "        return word"
   ]
  },
  {
   "cell_type": "code",
   "execution_count": null,
   "id": "cd110a81",
   "metadata": {},
   "outputs": [],
   "source": []
  },
  {
   "cell_type": "code",
   "execution_count": null,
   "id": "ee453bc8",
   "metadata": {},
   "outputs": [],
   "source": [
    "Define a function named calculate_tip. It should accept a tip \n",
    "percentage (a number between 0 and 1) and the bill total, and return \n",
    "the amount to tip."
   ]
  },
  {
   "cell_type": "code",
   "execution_count": null,
   "id": "bda41168",
   "metadata": {},
   "outputs": [],
   "source": [
    "tip_amount = .2"
   ]
  },
  {
   "cell_type": "code",
   "execution_count": 86,
   "id": "f342dccd",
   "metadata": {},
   "outputs": [
    {
     "name": "stdout",
     "output_type": "stream",
     "text": [
      "Enter Bill5.00\n"
     ]
    }
   ],
   "source": [
    "calculate_tip = input('Enter Bill')\n",
    "def calculate_tip(tip_percentage, bill_total):\n",
    "        tip_amount = bill_total * tip_percentage\n",
    "        print(tip_amount)"
   ]
  },
  {
   "cell_type": "code",
   "execution_count": null,
   "id": "d53dccfd",
   "metadata": {},
   "outputs": [],
   "source": []
  },
  {
   "cell_type": "code",
   "execution_count": null,
   "id": "2bbf16c3",
   "metadata": {},
   "outputs": [],
   "source": [
    "Define a function named apply_discount. It should accept a original \n",
    "price, and a discount percentage, and return the price after the \n",
    "discount is applied."
   ]
  },
  {
   "cell_type": "code",
   "execution_count": null,
   "id": "c427b4f8",
   "metadata": {},
   "outputs": [],
   "source": [
    "original_price = 10\n",
    "discount_percentage = .9"
   ]
  },
  {
   "cell_type": "code",
   "execution_count": 87,
   "id": "9dfedb18",
   "metadata": {},
   "outputs": [],
   "source": [
    "def apply_discount(original_price, discount_percentage):\n",
    "    discount = original_price * (discount_percentage / 100)\n",
    "    discounted_price = original_price - discount\n",
    "    return discounted_price "
   ]
  },
  {
   "cell_type": "code",
   "execution_count": null,
   "id": "19151808",
   "metadata": {},
   "outputs": [],
   "source": []
  },
  {
   "cell_type": "code",
   "execution_count": null,
   "id": "1128e150",
   "metadata": {},
   "outputs": [],
   "source": [
    "Define a function named handle_commas. It should accept a string that \n",
    "is a number that contains commas in it as input, and return a number \n",
    "as output."
   ]
  },
  {
   "cell_type": "code",
   "execution_count": 82,
   "id": "15abe225",
   "metadata": {},
   "outputs": [
    {
     "ename": "SyntaxError",
     "evalue": "invalid syntax (2322765857.py, line 1)",
     "output_type": "error",
     "traceback": [
      "\u001b[0;36m  Input \u001b[0;32mIn [82]\u001b[0;36m\u001b[0m\n\u001b[0;31m    function_handle_commas(str):\u001b[0m\n\u001b[0m                                ^\u001b[0m\n\u001b[0;31mSyntaxError\u001b[0m\u001b[0;31m:\u001b[0m invalid syntax\n"
     ]
    }
   ],
   "source": [
    "function_handle_commas(str):\n",
    "    str_without_commas = str.replace(\",\", \"\")\n",
    "    num = convert_string_to_number(str_without_commas)\n",
    "    return num"
   ]
  },
  {
   "cell_type": "code",
   "execution_count": null,
   "id": "f850a284",
   "metadata": {},
   "outputs": [],
   "source": []
  },
  {
   "cell_type": "code",
   "execution_count": null,
   "id": "be43edbb",
   "metadata": {},
   "outputs": [],
   "source": [
    "Define a function named get_letter_grade. It should accept a number \n",
    "and return the letter grade associated with that number (A-F)."
   ]
  },
  {
   "cell_type": "code",
   "execution_count": null,
   "id": "2eb2c79f",
   "metadata": {},
   "outputs": [],
   "source": [
    "while True:\n",
    "    grade = int(input(\"Enter a numerical grade from 0 to 100: \"))\n",
    "    if grade >= 90:\n",
    "        letter_grade = \"A\"\n",
    "    elif grade >= 80:\n",
    "        letter_grade = \"B\"\n",
    "    elif grade >= 70:\n",
    "        letter_grade = \"C\"\n",
    "    elif grade >= 60:\n",
    "        letter_grade = \"D\"\n",
    "    else:\n",
    "        letter_grade = \"F\"\n",
    "    \n",
    "    print(f\"The corresponding letter grade is: {letter_grade}\")"
   ]
  },
  {
   "cell_type": "code",
   "execution_count": null,
   "id": "65a4345b",
   "metadata": {},
   "outputs": [],
   "source": []
  },
  {
   "cell_type": "code",
   "execution_count": null,
   "id": "8700a64f",
   "metadata": {},
   "outputs": [],
   "source": [
    "Define a function named remove_vowels that accepts a string and \n",
    "returns a string with all the vowels removed."
   ]
  },
  {
   "cell_type": "code",
   "execution_count": null,
   "id": "58a443f7",
   "metadata": {},
   "outputs": [],
   "source": []
  }
 ],
 "metadata": {
  "kernelspec": {
   "display_name": "Python 3 (ipykernel)",
   "language": "python",
   "name": "python3"
  },
  "language_info": {
   "codemirror_mode": {
    "name": "ipython",
    "version": 3
   },
   "file_extension": ".py",
   "mimetype": "text/x-python",
   "name": "python",
   "nbconvert_exporter": "python",
   "pygments_lexer": "ipython3",
   "version": "3.9.13"
  }
 },
 "nbformat": 4,
 "nbformat_minor": 5
}
