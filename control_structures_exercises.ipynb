{
 "cells": [
  {
   "cell_type": "markdown",
   "id": "40555c38",
   "metadata": {},
   "source": [
    "# a. Prompt the user for a day of the week, print out whether the day is Monday or not"
   ]
  },
  {
   "cell_type": "code",
   "execution_count": 25,
   "id": "72aefeb9",
   "metadata": {},
   "outputs": [],
   "source": [
    "today = 'Tuesday'"
   ]
  },
  {
   "cell_type": "code",
   "execution_count": 2,
   "id": "d063d184",
   "metadata": {},
   "outputs": [
    {
     "name": "stdout",
     "output_type": "stream",
     "text": [
      "What is today?Tuesday\n",
      "today is not Monday\n"
     ]
    }
   ],
   "source": [
    "today = input('What is today?')\n",
    "if today == 'Monday':\n",
    "    print('yes, today is Monday')\n",
    "else:\n",
    "    print('today is not Monday')"
   ]
  },
  {
   "cell_type": "code",
   "execution_count": null,
   "id": "7efefa3a",
   "metadata": {},
   "outputs": [],
   "source": []
  },
  {
   "cell_type": "markdown",
   "id": "a7bcb64d",
   "metadata": {},
   "source": [
    "# b. Prompt the user for a day of the week, print out whether the day is a weekday or a weekend"
   ]
  },
  {
   "cell_type": "code",
   "execution_count": 31,
   "id": "8857f5b3",
   "metadata": {},
   "outputs": [
    {
     "data": {
      "text/plain": [
       "False"
      ]
     },
     "execution_count": 31,
     "metadata": {},
     "output_type": "execute_result"
    }
   ],
   "source": [
    "today == ['Monday', 'Tuesday', 'Wednesday', 'Thursday', 'Friday']"
   ]
  },
  {
   "cell_type": "code",
   "execution_count": null,
   "id": "5b4af69d",
   "metadata": {},
   "outputs": [],
   "source": [
    "today = input('What is today?')\n",
    "if today in ['Monday', 'Tuesday', 'Wednesday', 'Thursday', 'Friday']:\n",
    "    print(' weekday')\n",
    "else:\n",
    "    print(' weekend')"
   ]
  },
  {
   "cell_type": "code",
   "execution_count": 33,
   "id": "b2aa2908",
   "metadata": {},
   "outputs": [
    {
     "data": {
      "text/plain": [
       "False"
      ]
     },
     "execution_count": 33,
     "metadata": {},
     "output_type": "execute_result"
    }
   ],
   "source": [
    "today == ['Monday', 'Tuesday', 'Wednesday', 'Thursday', 'Friday']"
   ]
  },
  {
   "cell_type": "code",
   "execution_count": 35,
   "id": "4959e411",
   "metadata": {},
   "outputs": [
    {
     "data": {
      "text/plain": [
       "'Monday'"
      ]
     },
     "execution_count": 35,
     "metadata": {},
     "output_type": "execute_result"
    }
   ],
   "source": [
    "today"
   ]
  },
  {
   "cell_type": "markdown",
   "id": "07469c35",
   "metadata": {},
   "source": [
    "# c. Calculate a weekly paycheck, accounting for overtime pay. Create variables and make up values for:"
   ]
  },
  {
   "cell_type": "markdown",
   "id": "965fbf40",
   "metadata": {},
   "source": [
    "    # The number of hours worked in one week"
   ]
  },
  {
   "cell_type": "code",
   "execution_count": 3,
   "id": "529f923c",
   "metadata": {},
   "outputs": [
    {
     "data": {
      "text/plain": [
       "415.0"
      ]
     },
     "execution_count": 3,
     "metadata": {},
     "output_type": "execute_result"
    }
   ],
   "source": [
    "hours_weekly = 41\n",
    "hourly_rate = 10\n",
    "\n",
    "if hours_weekly <= 40:\n",
    "    paycheck = hours_weekly * hourly_rate\n",
    "else:\n",
    "    ot_hours = hours_weekly - 40\n",
    "    paycheck = (hourly_rate*40) + (ot_hours*hourly_rate*1.5)\n",
    "\n",
    "paycheck"
   ]
  },
  {
   "cell_type": "code",
   "execution_count": null,
   "id": "55fe0a37",
   "metadata": {},
   "outputs": [],
   "source": [
    "# Create an integer variable i with a value of 5. \n",
    "# Create a while loop that runs so long as i is less than or equal to 15. \n",
    "# Each loop iteration, output the current value of i, then increment i by one"
   ]
  },
  {
   "cell_type": "code",
   "execution_count": 4,
   "id": "9cd0f6fd",
   "metadata": {},
   "outputs": [
    {
     "name": "stdout",
     "output_type": "stream",
     "text": [
      "5\n",
      "6\n",
      "7\n",
      "8\n",
      "9\n",
      "10\n",
      "11\n",
      "12\n",
      "13\n",
      "14\n",
      "15\n"
     ]
    }
   ],
   "source": [
    "i = 5\n",
    "\n",
    "while i <= 15:\n",
    "    print(i)\n",
    "    i += 1"
   ]
  },
  {
   "cell_type": "code",
   "execution_count": 81,
   "id": "4e0b319c",
   "metadata": {},
   "outputs": [],
   "source": [
    "# Create a while loop that will count by 2's starting with 0 and ending at 100. \n",
    "# Follow each number with a new line."
   ]
  },
  {
   "cell_type": "code",
   "execution_count": 84,
   "id": "1fa9afa6",
   "metadata": {},
   "outputs": [
    {
     "name": "stdout",
     "output_type": "stream",
     "text": [
      "0\n",
      "2\n",
      "4\n",
      "6\n",
      "8\n",
      "10\n",
      "12\n",
      "14\n",
      "16\n",
      "18\n",
      "20\n",
      "22\n",
      "24\n",
      "26\n",
      "28\n",
      "30\n",
      "32\n",
      "34\n",
      "36\n",
      "38\n",
      "40\n",
      "42\n",
      "44\n",
      "46\n",
      "48\n",
      "50\n",
      "52\n",
      "54\n",
      "56\n",
      "58\n",
      "60\n",
      "62\n",
      "64\n",
      "66\n",
      "68\n",
      "70\n",
      "72\n",
      "74\n",
      "76\n",
      "78\n",
      "80\n",
      "82\n",
      "84\n",
      "86\n",
      "88\n",
      "90\n",
      "92\n",
      "94\n",
      "96\n",
      "98\n",
      "100\n"
     ]
    }
   ],
   "source": [
    "x = 0\n",
    "\n",
    "while x <= 100:\n",
    "    print(x)\n",
    "    x = x + 2"
   ]
  },
  {
   "cell_type": "markdown",
   "id": "928f0eea",
   "metadata": {},
   "source": [
    "Create a while loop that starts at 2, and displays the number squared on each line while the number is less than 1,000,000."
   ]
  },
  {
   "cell_type": "code",
   "execution_count": 5,
   "id": "b96fb239",
   "metadata": {},
   "outputs": [
    {
     "name": "stdout",
     "output_type": "stream",
     "text": [
      "2\n",
      "4\n",
      "16\n",
      "256\n",
      "65536\n"
     ]
    }
   ],
   "source": [
    "i = 2\n",
    "\n",
    "while i <= 1_000_000:\n",
    "    print(i)\n",
    "    i **= 2"
   ]
  },
  {
   "cell_type": "code",
   "execution_count": 86,
   "id": "223584b9",
   "metadata": {},
   "outputs": [
    {
     "name": "stdout",
     "output_type": "stream",
     "text": [
      "2\n",
      "4\n",
      "16\n",
      "256\n",
      "65536\n"
     ]
    }
   ],
   "source": [
    "y = 2\n",
    "\n",
    "while y <= 1000000:\n",
    "    print(y)\n",
    "    y = y * y"
   ]
  },
  {
   "cell_type": "markdown",
   "id": "3c24e5a9",
   "metadata": {},
   "source": [
    "Write a while loop that uses print to create the output shown below."
   ]
  },
  {
   "cell_type": "code",
   "execution_count": 91,
   "id": "f80f84f1",
   "metadata": {
    "scrolled": true
   },
   "outputs": [
    {
     "name": "stdout",
     "output_type": "stream",
     "text": [
      "100\n",
      "95\n",
      "90\n",
      "85\n",
      "80\n",
      "75\n",
      "70\n",
      "65\n",
      "60\n",
      "55\n",
      "50\n",
      "45\n",
      "40\n",
      "35\n",
      "30\n",
      "25\n",
      "20\n",
      "15\n",
      "10\n",
      "5\n",
      "0\n"
     ]
    }
   ],
   "source": [
    "z = 100\n",
    "\n",
    "while z >= 0:\n",
    "    print(z)\n",
    "    z = z - 5"
   ]
  },
  {
   "cell_type": "markdown",
   "id": "d3c9ffa9",
   "metadata": {},
   "source": [
    "Write some code using a for loop that prompts the user for a number, then shows a multiplication table up through 10 for that number.\n"
   ]
  },
  {
   "cell_type": "code",
   "execution_count": 121,
   "id": "f2072ddb",
   "metadata": {
    "scrolled": true
   },
   "outputs": [
    {
     "name": "stdout",
     "output_type": "stream",
     "text": [
      "enter a number: 5\n",
      "<class 'int'>\n",
      "1 x 5 = 5\n",
      "2 x 5 = 10\n",
      "3 x 5 = 15\n",
      "4 x 5 = 20\n",
      "5 x 5 = 25\n",
      "6 x 5 = 30\n",
      "7 x 5 = 35\n",
      "8 x 5 = 40\n",
      "9 x 5 = 45\n",
      "10 x 5 = 50\n"
     ]
    }
   ],
   "source": [
    "numb = int(input('enter a number: ')) #input function will always return a string, cast as int\n",
    "print(type(numb))\n",
    "\n",
    "for i in range(1,11):\n",
    "    print(f'{i} x {numb} = {i*numb}')"
   ]
  },
  {
   "cell_type": "markdown",
   "id": "645b6102",
   "metadata": {},
   "source": [
    "Create a for loop that uses print to create the output shown below."
   ]
  },
  {
   "cell_type": "code",
   "execution_count": 122,
   "id": "ade436cd",
   "metadata": {},
   "outputs": [
    {
     "name": "stdout",
     "output_type": "stream",
     "text": [
      "1\n",
      "22\n",
      "333\n",
      "4444\n",
      "55555\n",
      "666666\n",
      "7777777\n",
      "88888888\n",
      "999999999\n"
     ]
    }
   ],
   "source": [
    "for i in range(1,10):\n",
    "    print(str(i)*i)"
   ]
  },
  {
   "cell_type": "markdown",
   "id": "7e82aaaa",
   "metadata": {},
   "source": [
    "Write a program that prompts the user for a positive integer. Next write a loop that prints out the numbers from the number the user entered down to 1."
   ]
  },
  {
   "cell_type": "code",
   "execution_count": 95,
   "id": "901db922",
   "metadata": {},
   "outputs": [
    {
     "name": "stdout",
     "output_type": "stream",
     "text": [
      "Enter a positive integer?102\n",
      "102\n",
      "101\n",
      "100\n",
      "99\n",
      "98\n",
      "97\n",
      "96\n",
      "95\n",
      "94\n",
      "93\n",
      "92\n",
      "91\n",
      "90\n",
      "89\n",
      "88\n",
      "87\n",
      "86\n",
      "85\n",
      "84\n",
      "83\n",
      "82\n",
      "81\n",
      "80\n",
      "79\n",
      "78\n",
      "77\n",
      "76\n",
      "75\n",
      "74\n",
      "73\n",
      "72\n",
      "71\n",
      "70\n",
      "69\n",
      "68\n",
      "67\n",
      "66\n",
      "65\n",
      "64\n",
      "63\n",
      "62\n",
      "61\n",
      "60\n",
      "59\n",
      "58\n",
      "57\n",
      "56\n",
      "55\n",
      "54\n",
      "53\n",
      "52\n",
      "51\n",
      "50\n",
      "49\n",
      "48\n",
      "47\n",
      "46\n",
      "45\n",
      "44\n",
      "43\n",
      "42\n",
      "41\n",
      "40\n",
      "39\n",
      "38\n",
      "37\n",
      "36\n",
      "35\n",
      "34\n",
      "33\n",
      "32\n",
      "31\n",
      "30\n",
      "29\n",
      "28\n",
      "27\n",
      "26\n",
      "25\n",
      "24\n",
      "23\n",
      "22\n",
      "21\n",
      "20\n",
      "19\n",
      "18\n",
      "17\n",
      "16\n",
      "15\n",
      "14\n",
      "13\n",
      "12\n",
      "11\n",
      "10\n",
      "9\n",
      "8\n",
      "7\n",
      "6\n",
      "5\n",
      "4\n",
      "3\n",
      "2\n",
      "1\n"
     ]
    }
   ],
   "source": [
    "positive_integer = input('Enter a positive integer?')\n",
    "positive_integer = int(positive_integer)\n",
    "t = positive_integer\n",
    "\n",
    "while t >= 1:\n",
    "    print(t)\n",
    "    t = t - 1"
   ]
  },
  {
   "cell_type": "code",
   "execution_count": 6,
   "id": "2c90a637",
   "metadata": {},
   "outputs": [
    {
     "name": "stdout",
     "output_type": "stream",
     "text": [
      "enter a positive integer: 11\n",
      "11\n",
      "10\n",
      "9\n",
      "8\n",
      "7\n",
      "6\n",
      "5\n",
      "4\n",
      "3\n",
      "2\n",
      "1\n"
     ]
    }
   ],
   "source": [
    "numb = int(input('enter a positive integer: '))\n",
    "\n",
    "for i in range(numb,0,-1):\n",
    "    print(i)"
   ]
  },
  {
   "cell_type": "markdown",
   "id": "d64bd0f6",
   "metadata": {},
   "source": [
    "The input function can be used to prompt for input and use that input in your python code. \n",
    "Prompt the user to enter a positive number and write a loop that counts from 0 to that \n",
    "number. (Hints: note that the input function returns a string, so you'll need to convert this to a numeric type\n"
   ]
  },
  {
   "cell_type": "code",
   "execution_count": 97,
   "id": "cbe92664",
   "metadata": {
    "scrolled": true
   },
   "outputs": [
    {
     "name": "stdout",
     "output_type": "stream",
     "text": [
      "Enter a positive integer?52\n",
      "0\n",
      "1\n",
      "2\n",
      "3\n",
      "4\n",
      "5\n",
      "6\n",
      "7\n",
      "8\n",
      "9\n",
      "10\n",
      "11\n",
      "12\n",
      "13\n",
      "14\n",
      "15\n",
      "16\n",
      "17\n",
      "18\n",
      "19\n",
      "20\n",
      "21\n",
      "22\n",
      "23\n",
      "24\n",
      "25\n",
      "26\n",
      "27\n",
      "28\n",
      "29\n",
      "30\n",
      "31\n",
      "32\n",
      "33\n",
      "34\n",
      "35\n",
      "36\n",
      "37\n",
      "38\n",
      "39\n",
      "40\n",
      "41\n",
      "42\n",
      "43\n",
      "44\n",
      "45\n",
      "46\n",
      "47\n",
      "48\n",
      "49\n",
      "50\n",
      "51\n",
      "52\n"
     ]
    }
   ],
   "source": [
    "positive_integer = input('Enter a positive integer?')\n",
    "positive_integer = int(positive_integer)\n",
    "v = 0\n",
    "\n",
    "while v <= positive_integer:\n",
    "    print(v)\n",
    "    v = v + 1"
   ]
  },
  {
   "cell_type": "code",
   "execution_count": 7,
   "id": "d7cd42c2",
   "metadata": {},
   "outputs": [
    {
     "name": "stdout",
     "output_type": "stream",
     "text": [
      "enter a number: 5\n",
      "0\n",
      "1\n",
      "2\n",
      "3\n",
      "4\n",
      "5\n"
     ]
    }
   ],
   "source": [
    "numb = int(input('enter a number: '))\n",
    "\n",
    "for i in range(numb+1):\n",
    "    print(i)"
   ]
  },
  {
   "cell_type": "markdown",
   "id": "c88373b3",
   "metadata": {},
   "source": [
    "Prompt the user for an odd number between 1 and 50. Use a loop and a break statement to continue prompting the user if they enter invalid input. (Hint: use the isdigit method on strings to determine this). Use a loop and the continue statement to output all the odd numbers between 1 and 50, except for the number the user entered."
   ]
  },
  {
   "cell_type": "code",
   "execution_count": 117,
   "id": "8fbbc5c7",
   "metadata": {
    "scrolled": true
   },
   "outputs": [
    {
     "name": "stdout",
     "output_type": "stream",
     "text": [
      "Enter an odd number between 1 and 50 27\n",
      "Here is an odd number: 1\n",
      "Here is an odd number: 3\n",
      "Here is an odd number: 5\n",
      "Here is an odd number: 7\n",
      "Here is an odd number: 9\n",
      "Here is an odd number: 11\n",
      "Here is an odd number: 13\n",
      "Here is an odd number: 15\n",
      "Here is an odd number: 17\n",
      "Here is an odd number: 19\n",
      "Here is an odd number: 21\n",
      "Here is an odd number: 23\n",
      "Here is an odd number: 25\n",
      "Yikes! Skipping number: 27\n",
      "Here is an odd number: 27\n",
      "Here is an odd number: 29\n",
      "Here is an odd number: 31\n",
      "Here is an odd number: 33\n",
      "Here is an odd number: 35\n",
      "Here is an odd number: 37\n",
      "Here is an odd number: 39\n",
      "Here is an odd number: 41\n",
      "Here is an odd number: 43\n",
      "Here is an odd number: 45\n",
      "Here is an odd number: 47\n",
      "Here is an odd number: 49\n"
     ]
    }
   ],
   "source": [
    "odd_number = input('Enter an odd number between 1 and 50 ')\n",
    "odd_number = int(odd_number)\n",
    "\n",
    "for e in range(50):\n",
    "    if e == odd_number:\n",
    "        print (f'Yikes! Skipping number: {e}')\n",
    "    if e % 2 == 0:\n",
    "        continue\n",
    "    if e % 2 == 1:\n",
    "        print(f'Here is an odd number: {e}')\n",
    "    \n"
   ]
  },
  {
   "cell_type": "code",
   "execution_count": 118,
   "id": "68b344c8",
   "metadata": {},
   "outputs": [
    {
     "name": "stdout",
     "output_type": "stream",
     "text": [
      "Enter an odd number between 1 and 50 25\n",
      "Here is an odd number: 1\n",
      "Here is an odd number: 3\n",
      "Here is an odd number: 5\n",
      "Here is an odd number: 7\n",
      "Here is an odd number: 9\n",
      "Here is an odd number: 11\n",
      "Here is an odd number: 13\n",
      "Here is an odd number: 15\n",
      "Here is an odd number: 17\n",
      "Here is an odd number: 19\n",
      "Here is an odd number: 21\n",
      "Here is an odd number: 23\n",
      "Yikes! Skipping number: 25\n",
      "Here is an odd number: 25\n",
      "Here is an odd number: 27\n",
      "Here is an odd number: 29\n",
      "Here is an odd number: 31\n",
      "Here is an odd number: 33\n",
      "Here is an odd number: 35\n",
      "Here is an odd number: 37\n",
      "Here is an odd number: 39\n",
      "Here is an odd number: 41\n",
      "Here is an odd number: 43\n",
      "Here is an odd number: 45\n",
      "Here is an odd number: 47\n",
      "Here is an odd number: 49\n"
     ]
    }
   ],
   "source": [
    "odd_number = input('Enter an odd number between 1 and 50 ')\n",
    "odd_number = int(odd_number)\n",
    "\n",
    "for e in range(50):\n",
    "    if e == odd_number:\n",
    "        print (f'Yikes! Skipping number: {e}')\n",
    "    if e % 2 == 0:\n",
    "        continue\n",
    "    if e % 2 == 1:\n",
    "        print(f'Here is an odd number: {e}')"
   ]
  },
  {
   "cell_type": "code",
   "execution_count": 119,
   "id": "6e91c122",
   "metadata": {},
   "outputs": [
    {
     "name": "stdout",
     "output_type": "stream",
     "text": [
      "Enter an odd number between 1 and 50 44\n",
      "Here is an odd number: 1\n",
      "Here is an odd number: 3\n",
      "Here is an odd number: 5\n",
      "Here is an odd number: 7\n",
      "Here is an odd number: 9\n",
      "Here is an odd number: 11\n",
      "Here is an odd number: 13\n",
      "Here is an odd number: 15\n",
      "Here is an odd number: 17\n",
      "Here is an odd number: 19\n",
      "Here is an odd number: 21\n",
      "Here is an odd number: 23\n",
      "Here is an odd number: 25\n",
      "Here is an odd number: 27\n",
      "Here is an odd number: 29\n",
      "Here is an odd number: 31\n",
      "Here is an odd number: 33\n",
      "Here is an odd number: 35\n",
      "Here is an odd number: 37\n",
      "Here is an odd number: 39\n",
      "Here is an odd number: 41\n",
      "Here is an odd number: 43\n",
      "Yikes! Skipping number: 44\n",
      "Here is an odd number: 45\n",
      "Here is an odd number: 47\n",
      "Here is an odd number: 49\n"
     ]
    }
   ],
   "source": [
    "odd_number = input('Enter an odd number between 1 and 50 ')\n",
    "odd_number = int(odd_number)\n",
    "for e in range(50):\n",
    "    if e == odd_number:\n",
    "        print (f'Yikes! Skipping number: {e}')\n",
    "    if e % 2 == 0:\n",
    "        continue\n",
    "    if e % 2 == 1:\n",
    "        print(f'Here is an odd number: {e}')"
   ]
  },
  {
   "cell_type": "code",
   "execution_count": 8,
   "id": "a811db3b",
   "metadata": {},
   "outputs": [
    {
     "name": "stdout",
     "output_type": "stream",
     "text": [
      "enter a odd number between 1 and 50: 3\n",
      "1\n",
      "SKIP THIS NUMBER: 3\n",
      "5\n",
      "7\n",
      "9\n",
      "11\n",
      "13\n",
      "15\n",
      "17\n",
      "19\n",
      "21\n",
      "23\n",
      "25\n",
      "27\n",
      "29\n",
      "31\n",
      "33\n",
      "35\n",
      "37\n",
      "39\n",
      "41\n",
      "43\n",
      "45\n",
      "47\n",
      "49\n"
     ]
    }
   ],
   "source": [
    "while True:\n",
    "    numb = input('enter a odd number between 1 and 50: ')\n",
    "    \n",
    "    if numb.isdigit() == False:\n",
    "        print('invalid entry. this is NOT a number.')\n",
    "        continue\n",
    "    numb = int(numb)\n",
    "    if numb % 2 == 0:\n",
    "        print('invalid entry. this is EVEN.')\n",
    "        continue\n",
    "    if numb < 1 or numb > 50:\n",
    "        print('invalid entry. this is out of range.')\n",
    "        continue\n",
    "    break\n",
    "    \n",
    "for i in range(1,51,2):\n",
    "    if i == numb:\n",
    "        print(f'SKIP THIS NUMBER: {numb}')\n",
    "        continue\n",
    "    print(i)"
   ]
  },
  {
   "cell_type": "markdown",
   "id": "28a9e61c",
   "metadata": {},
   "source": [
    "One of the most common interview questions for entry-level programmers is the FizzBuzz test. Developed by Imran Ghory, the test is designed to test basic looping and conditional logic skills.\n",
    "\n",
    "Write a program that prints the numbers from 1 to 100.\n",
    "For multiples of three print \"Fizz\" instead of the number\n",
    "For the multiples of five print \"Buzz\".\n",
    "For numbers which are multiples of both three and five print \"FizzBuzz\"."
   ]
  },
  {
   "cell_type": "code",
   "execution_count": 123,
   "id": "161586ef",
   "metadata": {},
   "outputs": [
    {
     "name": "stdout",
     "output_type": "stream",
     "text": [
      "1\n",
      "2\n",
      "Fizz\n",
      "4\n",
      "Buzz\n",
      "Fizz\n",
      "7\n",
      "8\n",
      "Fizz\n",
      "Buzz\n",
      "11\n",
      "Fizz\n",
      "13\n",
      "14\n",
      "FizzBuzz\n",
      "16\n",
      "17\n",
      "Fizz\n",
      "19\n",
      "Buzz\n",
      "Fizz\n",
      "22\n",
      "23\n",
      "Fizz\n",
      "Buzz\n",
      "26\n",
      "Fizz\n",
      "28\n",
      "29\n",
      "FizzBuzz\n",
      "31\n",
      "32\n",
      "Fizz\n",
      "34\n",
      "Buzz\n",
      "Fizz\n",
      "37\n",
      "38\n",
      "Fizz\n",
      "Buzz\n",
      "41\n",
      "Fizz\n",
      "43\n",
      "44\n",
      "FizzBuzz\n",
      "46\n",
      "47\n",
      "Fizz\n",
      "49\n",
      "Buzz\n",
      "Fizz\n",
      "52\n",
      "53\n",
      "Fizz\n",
      "Buzz\n",
      "56\n",
      "Fizz\n",
      "58\n",
      "59\n",
      "FizzBuzz\n",
      "61\n",
      "62\n",
      "Fizz\n",
      "64\n",
      "Buzz\n",
      "Fizz\n",
      "67\n",
      "68\n",
      "Fizz\n",
      "Buzz\n",
      "71\n",
      "Fizz\n",
      "73\n",
      "74\n",
      "FizzBuzz\n",
      "76\n",
      "77\n",
      "Fizz\n",
      "79\n",
      "Buzz\n",
      "Fizz\n",
      "82\n",
      "83\n",
      "Fizz\n",
      "Buzz\n",
      "86\n",
      "Fizz\n",
      "88\n",
      "89\n",
      "FizzBuzz\n",
      "91\n",
      "92\n",
      "Fizz\n",
      "94\n",
      "Buzz\n",
      "Fizz\n",
      "97\n",
      "98\n",
      "Fizz\n",
      "Buzz\n"
     ]
    }
   ],
   "source": [
    "for num in range(1, 101):\n",
    "    if num % 3 == 0 and num % 5 == 0:\n",
    "        print(\"FizzBuzz\")\n",
    "    elif num % 3 == 0:\n",
    "        print(\"Fizz\")\n",
    "    elif num % 5 == 0:\n",
    "        print(\"Buzz\")\n",
    "    else:\n",
    "        print(num)"
   ]
  },
  {
   "cell_type": "markdown",
   "id": "ad734254",
   "metadata": {},
   "source": [
    "Display a table of powers.\n",
    "\n",
    "Prompt the user to enter an integer\n",
    "Display a table of squares and cubes from 1 to the value entered\n",
    "Ask if the user wants to continue\n",
    "Assume that the user will enter valid data\n",
    "Only continue if the user agrees to"
   ]
  },
  {
   "cell_type": "code",
   "execution_count": 128,
   "id": "006c4128",
   "metadata": {},
   "outputs": [
    {
     "name": "stdout",
     "output_type": "stream",
     "text": [
      "Enter a positive integer: 5\n",
      "Number\tSquare\tCube\n",
      "1 \t 1 \t 1\n",
      "2 \t 4 \t 8\n",
      "3 \t 9 \t 27\n",
      "4 \t 16 \t 64\n",
      "5 \t 25 \t 125\n",
      "Do you want to continue? (y/n): n\n"
     ]
    }
   ],
   "source": [
    "while True:\n",
    "    num = int(input(\"Enter a positive integer: \"))\n",
    "    print(\"Number\\tSquare\\tCube\")\n",
    "    for i in range(1, num+1):\n",
    "        print(i, \"\\t\", i**2, \"\\t\", i**3)\n",
    "    choice = input(\"Do you want to continue? (y/n): \")\n",
    "    if choice.lower() == 'n':\n",
    "        break\n"
   ]
  },
  {
   "cell_type": "markdown",
   "id": "308442a3",
   "metadata": {},
   "source": [
    "### Convert given number grades into letter grades.\n",
    "\n",
    "Prompt the user for a numerical grade from 0 to 100\n",
    "Display the corresponding letter grade\n",
    "Prompt the user to continue\n",
    "Assume that the user will enter valid integers for the grades\n",
    "The application should only continue if the user agrees to\n",
    "Grade Ranges:\n",
    "\n",
    "A : 100 - 88\n",
    "B : 87 - 80\n",
    "C : 79 - 67\n",
    "D : 66 - 60\n",
    "F : 59 - 0"
   ]
  },
  {
   "cell_type": "code",
   "execution_count": 129,
   "id": "2dc55f3e",
   "metadata": {},
   "outputs": [
    {
     "name": "stdout",
     "output_type": "stream",
     "text": [
      "Enter a numerical grade from 0 to 100: 88\n",
      "The corresponding letter grade is: A\n",
      "Do you want to continue? (yes/no): 77\n",
      "Enter a numerical grade from 0 to 100: 77\n",
      "The corresponding letter grade is: C\n",
      "Do you want to continue? (yes/no): no\n"
     ]
    }
   ],
   "source": [
    "while True:\n",
    "    grade = int(input(\"Enter a numerical grade from 0 to 100: \"))\n",
    "    if grade >= 88:\n",
    "        letter_grade = \"A\"\n",
    "    elif grade >= 80:\n",
    "        letter_grade = \"B\"\n",
    "    elif grade >= 67:\n",
    "        letter_grade = \"C\"\n",
    "    elif grade >= 60:\n",
    "        letter_grade = \"D\"\n",
    "    else:\n",
    "        letter_grade = \"F\"\n",
    "    \n",
    "    print(f\"The corresponding letter grade is: {letter_grade}\")\n",
    "    \n",
    "    repeat = input(\"Do you want to continue? (yes/no): \")\n",
    "    if repeat.lower() == \"no\":\n",
    "        break"
   ]
  },
  {
   "cell_type": "markdown",
   "id": "a63e9820",
   "metadata": {},
   "source": [
    "Create a list of dictionaries where each dictionary represents a book that you have read. Each dictionary in the list should have the keys title, author, and genre. Loop through the list and print out information about each book.\n",
    "\n",
    "Prompt the user to enter a genre, then loop through your books list and print out the titles of all the books in that genre."
   ]
  },
  {
   "cell_type": "code",
   "execution_count": 131,
   "id": "fd8b1a53",
   "metadata": {},
   "outputs": [
    {
     "name": "stdout",
     "output_type": "stream",
     "text": [
      "Title: 1984\n",
      "Author: George Orwell\n",
      "Genre: Science Fiction/Dystopia\n",
      "\n",
      "Title: To Kill a Mockingbird\n",
      "Author: Harper Lee\n",
      "Genre: Fiction\n",
      "\n",
      "Title: The Catcher in the Rye\n",
      "Author: J.D. Salinger\n",
      "Genre: Fiction\n",
      "\n",
      "Title: The Lord of the Rings\n",
      "Author: J.R.R. Tolkien\n",
      "Genre: Fantasy\n",
      "\n",
      "Please enter a genre to see related books: Fiction\n",
      "To Kill a Mockingbird\n",
      "The Catcher in the Rye\n"
     ]
    }
   ],
   "source": [
    "# Here's an example list of dictionaries representing books:\n",
    "books_list = [\n",
    "    {'title': '1984', 'author': 'George Orwell', 'genre': 'Science Fiction/Dystopia'},\n",
    "    {'title': 'To Kill a Mockingbird', 'author': 'Harper Lee', 'genre': 'Fiction'},\n",
    "    {'title': 'The Catcher in the Rye', 'author': 'J.D. Salinger', 'genre': 'Fiction'},\n",
    "    {'title': 'The Lord of the Rings', 'author': 'J.R.R. Tolkien', 'genre': 'Fantasy'}\n",
    "]\n",
    "# Loop through the list and print out information about each book\n",
    "for book in books_list:\n",
    "    print(f\"Title: {book['title']}\")\n",
    "    print(f\"Author: {book['author']}\")\n",
    "    print(f\"Genre: {book['genre']}\\n\")\n",
    "    \n",
    "# Prompt the user to enter a genre and print out the titles of all the books in that genre\n",
    "user_genre = input(\"Please enter a genre to see related books: \")\n",
    "for book in books_list:\n",
    "    if book['genre'] == user_genre:\n",
    "        print(book['title'])"
   ]
  },
  {
   "cell_type": "code",
   "execution_count": null,
   "id": "948f8349",
   "metadata": {},
   "outputs": [],
   "source": []
  }
 ],
 "metadata": {
  "kernelspec": {
   "display_name": "Python 3 (ipykernel)",
   "language": "python",
   "name": "python3"
  },
  "language_info": {
   "codemirror_mode": {
    "name": "ipython",
    "version": 3
   },
   "file_extension": ".py",
   "mimetype": "text/x-python",
   "name": "python",
   "nbconvert_exporter": "python",
   "pygments_lexer": "ipython3",
   "version": "3.9.13"
  }
 },
 "nbformat": 4,
 "nbformat_minor": 5
}
